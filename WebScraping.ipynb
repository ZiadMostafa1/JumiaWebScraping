{
 "cells": [
  {
   "cell_type": "code",
   "execution_count": 1,
   "metadata": {},
   "outputs": [],
   "source": [
    "import pandas as pd"
   ]
  },
  {
   "cell_type": "code",
   "execution_count": 9,
   "metadata": {},
   "outputs": [],
   "source": [
    "df = pd.read_csv(\"jumia_reviews.csv\", names=[\"website\",\"product_name\", \"main_category\", \"sub_category_1\", \"sub_category_2\", \"product_price\", \"product_rating\", \"user_rating\", \"comment_title\", \"comment_content\"], header=0)"
   ]
  },
  {
   "cell_type": "code",
   "execution_count": 10,
   "metadata": {},
   "outputs": [
    {
     "data": {
      "text/html": [
       "<div>\n",
       "<style scoped>\n",
       "    .dataframe tbody tr th:only-of-type {\n",
       "        vertical-align: middle;\n",
       "    }\n",
       "\n",
       "    .dataframe tbody tr th {\n",
       "        vertical-align: top;\n",
       "    }\n",
       "\n",
       "    .dataframe thead th {\n",
       "        text-align: right;\n",
       "    }\n",
       "</style>\n",
       "<table border=\"1\" class=\"dataframe\">\n",
       "  <thead>\n",
       "    <tr style=\"text-align: right;\">\n",
       "      <th></th>\n",
       "      <th>website</th>\n",
       "      <th>product_name</th>\n",
       "      <th>main_category</th>\n",
       "      <th>sub_category_1</th>\n",
       "      <th>sub_category_2</th>\n",
       "      <th>product_price</th>\n",
       "      <th>product_rating</th>\n",
       "      <th>user_rating</th>\n",
       "      <th>comment_title</th>\n",
       "      <th>comment_content</th>\n",
       "    </tr>\n",
       "  </thead>\n",
       "  <tbody>\n",
       "    <tr>\n",
       "      <th>0</th>\n",
       "      <td>jumia</td>\n",
       "      <td>Huawei Watch Fit 2 Smartwatch - Sakura Pink</td>\n",
       "      <td>Phones &amp; Tablets</td>\n",
       "      <td>Cell Phone Accessories</td>\n",
       "      <td>Smart Watches</td>\n",
       "      <td>EGP 5,199.00</td>\n",
       "      <td>5 out of 5</td>\n",
       "      <td>5 out of 5</td>\n",
       "      <td>awesome</td>\n",
       "      <td>Awsome watch ⌚️</td>\n",
       "    </tr>\n",
       "    <tr>\n",
       "      <th>1</th>\n",
       "      <td>jumia</td>\n",
       "      <td>Samsung A15 6.5inch 256GB/8GB Dual SIM Mobile ...</td>\n",
       "      <td>Phones &amp; Tablets</td>\n",
       "      <td>Mobile Phones</td>\n",
       "      <td>Smartphones</td>\n",
       "      <td>EGP 8,759.00</td>\n",
       "      <td>3.3 out of 5</td>\n",
       "      <td>5 out of 5</td>\n",
       "      <td>ممتاز</td>\n",
       "      <td>سرعة التوصيل جودة فى التغليف الهاتف ممتاز افضل...</td>\n",
       "    </tr>\n",
       "    <tr>\n",
       "      <th>2</th>\n",
       "      <td>jumia</td>\n",
       "      <td>Samsung DA-705 Type C Charging Cable - 1 M - B...</td>\n",
       "      <td>Phones &amp; Tablets</td>\n",
       "      <td>Cell Phone Accessories</td>\n",
       "      <td>Cables</td>\n",
       "      <td>EGP 802.37</td>\n",
       "      <td>5 out of 5</td>\n",
       "      <td>5 out of 5</td>\n",
       "      <td>good</td>\n",
       "      <td>Excellent - Original</td>\n",
       "    </tr>\n",
       "    <tr>\n",
       "      <th>3</th>\n",
       "      <td>jumia</td>\n",
       "      <td>Samsung DA-705 Type C Charging Cable - 1 M - B...</td>\n",
       "      <td>Phones &amp; Tablets</td>\n",
       "      <td>Cell Phone Accessories</td>\n",
       "      <td>Cables</td>\n",
       "      <td>EGP 802.37</td>\n",
       "      <td>5 out of 5</td>\n",
       "      <td>5 out of 5</td>\n",
       "      <td>excellent</td>\n",
       "      <td>حلوه وسريعه</td>\n",
       "    </tr>\n",
       "    <tr>\n",
       "      <th>4</th>\n",
       "      <td>jumia</td>\n",
       "      <td>Samsung DA-705 Type C Charging Cable - 1 M - B...</td>\n",
       "      <td>Phones &amp; Tablets</td>\n",
       "      <td>Cell Phone Accessories</td>\n",
       "      <td>Cables</td>\n",
       "      <td>EGP 802.37</td>\n",
       "      <td>5 out of 5</td>\n",
       "      <td>5 out of 5</td>\n",
       "      <td>ممتازة</td>\n",
       "      <td>خامه ممتازه و طول مناسب</td>\n",
       "    </tr>\n",
       "  </tbody>\n",
       "</table>\n",
       "</div>"
      ],
      "text/plain": [
       "  website                                       product_name  \\\n",
       "0   jumia        Huawei Watch Fit 2 Smartwatch - Sakura Pink   \n",
       "1   jumia  Samsung A15 6.5inch 256GB/8GB Dual SIM Mobile ...   \n",
       "2   jumia  Samsung DA-705 Type C Charging Cable - 1 M - B...   \n",
       "3   jumia  Samsung DA-705 Type C Charging Cable - 1 M - B...   \n",
       "4   jumia  Samsung DA-705 Type C Charging Cable - 1 M - B...   \n",
       "\n",
       "      main_category          sub_category_1 sub_category_2 product_price  \\\n",
       "0  Phones & Tablets  Cell Phone Accessories  Smart Watches  EGP 5,199.00   \n",
       "1  Phones & Tablets           Mobile Phones    Smartphones  EGP 8,759.00   \n",
       "2  Phones & Tablets  Cell Phone Accessories         Cables    EGP 802.37   \n",
       "3  Phones & Tablets  Cell Phone Accessories         Cables    EGP 802.37   \n",
       "4  Phones & Tablets  Cell Phone Accessories         Cables    EGP 802.37   \n",
       "\n",
       "  product_rating user_rating comment_title  \\\n",
       "0     5 out of 5  5 out of 5       awesome   \n",
       "1   3.3 out of 5  5 out of 5         ممتاز   \n",
       "2     5 out of 5  5 out of 5          good   \n",
       "3     5 out of 5  5 out of 5     excellent   \n",
       "4     5 out of 5  5 out of 5        ممتازة   \n",
       "\n",
       "                                     comment_content  \n",
       "0                                    Awsome watch ⌚️  \n",
       "1  سرعة التوصيل جودة فى التغليف الهاتف ممتاز افضل...  \n",
       "2                               Excellent - Original  \n",
       "3                                        حلوه وسريعه  \n",
       "4                            خامه ممتازه و طول مناسب  "
      ]
     },
     "execution_count": 10,
     "metadata": {},
     "output_type": "execute_result"
    }
   ],
   "source": [
    "df.head()"
   ]
  },
  {
   "cell_type": "code",
   "execution_count": 11,
   "metadata": {},
   "outputs": [
    {
     "name": "stdout",
     "output_type": "stream",
     "text": [
      "<class 'pandas.core.frame.DataFrame'>\n",
      "RangeIndex: 2068 entries, 0 to 2067\n",
      "Data columns (total 10 columns):\n",
      " #   Column           Non-Null Count  Dtype \n",
      "---  ------           --------------  ----- \n",
      " 0   website          2068 non-null   object\n",
      " 1   product_name     2068 non-null   object\n",
      " 2   main_category    2068 non-null   object\n",
      " 3   sub_category_1   2068 non-null   object\n",
      " 4   sub_category_2   2067 non-null   object\n",
      " 5   product_price    2068 non-null   object\n",
      " 6   product_rating   2068 non-null   object\n",
      " 7   user_rating      2068 non-null   object\n",
      " 8   comment_title    2067 non-null   object\n",
      " 9   comment_content  2065 non-null   object\n",
      "dtypes: object(10)\n",
      "memory usage: 161.7+ KB\n"
     ]
    }
   ],
   "source": [
    "df.info()"
   ]
  },
  {
   "cell_type": "code",
   "execution_count": 12,
   "metadata": {},
   "outputs": [
    {
     "data": {
      "text/plain": [
       "320"
      ]
     },
     "execution_count": 12,
     "metadata": {},
     "output_type": "execute_result"
    }
   ],
   "source": [
    "df['product_name'].nunique()"
   ]
  },
  {
   "cell_type": "code",
   "execution_count": null,
   "metadata": {},
   "outputs": [],
   "source": []
  }
 ],
 "metadata": {
  "kernelspec": {
   "display_name": "base",
   "language": "python",
   "name": "python3"
  },
  "language_info": {
   "codemirror_mode": {
    "name": "ipython",
    "version": 3
   },
   "file_extension": ".py",
   "mimetype": "text/x-python",
   "name": "python",
   "nbconvert_exporter": "python",
   "pygments_lexer": "ipython3",
   "version": "3.11.5"
  }
 },
 "nbformat": 4,
 "nbformat_minor": 2
}
